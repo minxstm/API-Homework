{
 "cells": [
  {
   "cell_type": "code",
   "execution_count": 82,
   "metadata": {
    "collapsed": true
   },
   "outputs": [],
   "source": [
    "# import modules\n",
    "import pandas as pd\n",
    "import os\n",
    "import csv"
   ]
  },
  {
   "cell_type": "code",
   "execution_count": 83,
   "metadata": {},
   "outputs": [
    {
     "name": "stdout",
     "output_type": "stream",
     "text": [
      "Which file do you want to open? (1)or(2)2\n"
     ]
    }
   ],
   "source": [
    "file = input(\"Which file do you want to open? (1)or(2)\")"
   ]
  },
  {
   "cell_type": "code",
   "execution_count": 84,
   "metadata": {},
   "outputs": [],
   "source": [
    "# import file\n",
    "data_file = \"raw_data/budget_data_\" + file + \".csv\"\n",
    "data_file_pd = pd.read_csv(data_file)"
   ]
  },
  {
   "cell_type": "code",
   "execution_count": 85,
   "metadata": {},
   "outputs": [
    {
     "data": {
      "text/plain": [
       "86"
      ]
     },
     "execution_count": 85,
     "metadata": {},
     "output_type": "execute_result"
    }
   ],
   "source": [
    "# The total number of months included in the dataset\n",
    "count = data_file_pd[\"Date\"].count()\n",
    "count"
   ]
  },
  {
   "cell_type": "code",
   "execution_count": 86,
   "metadata": {},
   "outputs": [
    {
     "data": {
      "text/plain": [
       "36973911"
      ]
     },
     "execution_count": 86,
     "metadata": {},
     "output_type": "execute_result"
    }
   ],
   "source": [
    "# The total amount of revenue gained over the entire period\n",
    "total = data_file_pd[\"Revenue\"].sum()\n",
    "total"
   ]
  },
  {
   "cell_type": "code",
   "execution_count": 87,
   "metadata": {},
   "outputs": [
    {
     "data": {
      "text/plain": [
       "429929.19767441862"
      ]
     },
     "execution_count": 87,
     "metadata": {},
     "output_type": "execute_result"
    }
   ],
   "source": [
    "# The average change in revenue between months over the entire period\n",
    "averagechange = total / count\n",
    "averagechange"
   ]
  },
  {
   "cell_type": "code",
   "execution_count": 88,
   "metadata": {},
   "outputs": [
    {
     "data": {
      "text/plain": [
       "Date       Sep-2015\n",
       "Revenue     1141606\n",
       "dtype: object"
      ]
     },
     "execution_count": 88,
     "metadata": {},
     "output_type": "execute_result"
    }
   ],
   "source": [
    "max = data_file_pd.max()\n",
    "max"
   ]
  },
  {
   "cell_type": "code",
   "execution_count": 89,
   "metadata": {},
   "outputs": [
    {
     "data": {
      "text/plain": [
       "Date       Apr-2009\n",
       "Revenue    -1063151\n",
       "dtype: object"
      ]
     },
     "execution_count": 89,
     "metadata": {},
     "output_type": "execute_result"
    }
   ],
   "source": [
    "min = data_file_pd.min()\n",
    "min"
   ]
  },
  {
   "cell_type": "code",
   "execution_count": 90,
   "metadata": {},
   "outputs": [
    {
     "data": {
      "text/html": [
       "<div>\n",
       "<style>\n",
       "    .dataframe thead tr:only-child th {\n",
       "        text-align: right;\n",
       "    }\n",
       "\n",
       "    .dataframe thead th {\n",
       "        text-align: left;\n",
       "    }\n",
       "\n",
       "    .dataframe tbody tr th {\n",
       "        vertical-align: top;\n",
       "    }\n",
       "</style>\n",
       "<table border=\"1\" class=\"dataframe\">\n",
       "  <thead>\n",
       "    <tr style=\"text-align: right;\">\n",
       "      <th></th>\n",
       "      <th>Average Revenue Change :</th>\n",
       "      <th>Greatest Decrease In Revenue :</th>\n",
       "      <th>Greatest Increase in Revenue :</th>\n",
       "      <th>Total Months :</th>\n",
       "      <th>Total Revenue :</th>\n",
       "    </tr>\n",
       "  </thead>\n",
       "  <tbody>\n",
       "    <tr>\n",
       "      <th>0</th>\n",
       "      <td>429929.197674</td>\n",
       "      <td>Date       Apr-2009\n",
       "Revenue    -1063151\n",
       "dtype:...</td>\n",
       "      <td>Date       Sep-2015\n",
       "Revenue     1141606\n",
       "dtype:...</td>\n",
       "      <td>86</td>\n",
       "      <td>36973911</td>\n",
       "    </tr>\n",
       "  </tbody>\n",
       "</table>\n",
       "</div>"
      ],
      "text/plain": [
       "   Average Revenue Change :  \\\n",
       "0             429929.197674   \n",
       "\n",
       "                      Greatest Decrease In Revenue :  \\\n",
       "0  Date       Apr-2009\n",
       "Revenue    -1063151\n",
       "dtype:...   \n",
       "\n",
       "                      Greatest Increase in Revenue :  Total Months :  \\\n",
       "0  Date       Sep-2015\n",
       "Revenue     1141606\n",
       "dtype:...              86   \n",
       "\n",
       "   Total Revenue :  \n",
       "0         36973911  "
      ]
     },
     "execution_count": 90,
     "metadata": {},
     "output_type": "execute_result"
    }
   ],
   "source": [
    "data_to_save = pd.DataFrame({\n",
    "    \"Total Months :\": [count],\n",
    "    \"Total Revenue :\": [total],\n",
    "    \"Average Revenue Change :\": [averagechange],\n",
    "    \"Greatest Increase in Revenue :\": [max],\n",
    "    \"Greatest Decrease In Revenue :\": [min],\n",
    "})\n",
    "data_to_save"
   ]
  },
  {
   "cell_type": "code",
   "execution_count": 91,
   "metadata": {},
   "outputs": [
    {
     "data": {
      "text/plain": [
       "Index(['Average Revenue Change :', 'Greatest Decrease In Revenue :',\n",
       "       'Greatest Increase in Revenue :', 'Total Months :', 'Total Revenue :'],\n",
       "      dtype='object')"
      ]
     },
     "execution_count": 91,
     "metadata": {},
     "output_type": "execute_result"
    }
   ],
   "source": [
    "data_to_save.columns"
   ]
  },
  {
   "cell_type": "code",
   "execution_count": 92,
   "metadata": {},
   "outputs": [
    {
     "data": {
      "text/html": [
       "<div>\n",
       "<style>\n",
       "    .dataframe thead tr:only-child th {\n",
       "        text-align: right;\n",
       "    }\n",
       "\n",
       "    .dataframe thead th {\n",
       "        text-align: left;\n",
       "    }\n",
       "\n",
       "    .dataframe tbody tr th {\n",
       "        vertical-align: top;\n",
       "    }\n",
       "</style>\n",
       "<table border=\"1\" class=\"dataframe\">\n",
       "  <thead>\n",
       "    <tr style=\"text-align: right;\">\n",
       "      <th></th>\n",
       "      <th>Total Months :</th>\n",
       "      <th>Total Revenue :</th>\n",
       "      <th>Average Revenue Change :</th>\n",
       "      <th>Greatest Increase in Revenue :</th>\n",
       "      <th>Greatest Decrease In Revenue :</th>\n",
       "    </tr>\n",
       "  </thead>\n",
       "  <tbody>\n",
       "    <tr>\n",
       "      <th>0</th>\n",
       "      <td>86</td>\n",
       "      <td>36973911</td>\n",
       "      <td>429929.197674</td>\n",
       "      <td>Date       Sep-2015\n",
       "Revenue     1141606\n",
       "dtype:...</td>\n",
       "      <td>Date       Apr-2009\n",
       "Revenue    -1063151\n",
       "dtype:...</td>\n",
       "    </tr>\n",
       "  </tbody>\n",
       "</table>\n",
       "</div>"
      ],
      "text/plain": [
       "   Total Months :  Total Revenue :  Average Revenue Change :  \\\n",
       "0              86         36973911             429929.197674   \n",
       "\n",
       "                      Greatest Increase in Revenue :  \\\n",
       "0  Date       Sep-2015\n",
       "Revenue     1141606\n",
       "dtype:...   \n",
       "\n",
       "                      Greatest Decrease In Revenue :  \n",
       "0  Date       Apr-2009\n",
       "Revenue    -1063151\n",
       "dtype:...  "
      ]
     },
     "execution_count": 92,
     "metadata": {},
     "output_type": "execute_result"
    }
   ],
   "source": [
    "data_to_save_organized = data_to_save[[\"Total Months :\",\n",
    "                                       \"Total Revenue :\",\n",
    "                                       \"Average Revenue Change :\",\n",
    "                                       \"Greatest Increase in Revenue :\",\n",
    "                                       \"Greatest Decrease In Revenue :\"]]\n",
    "data_to_save_organized"
   ]
  },
  {
   "cell_type": "code",
   "execution_count": 97,
   "metadata": {},
   "outputs": [],
   "source": [
    "data_to_save_organized.to_csv(\"PyBankAnalysis.csv\")"
   ]
  }
 ],
 "metadata": {
  "kernelspec": {
   "display_name": "Python (PythonData)",
   "language": "python",
   "name": "pythondata"
  },
  "language_info": {
   "codemirror_mode": {
    "name": "ipython",
    "version": 3
   },
   "file_extension": ".py",
   "mimetype": "text/x-python",
   "name": "python",
   "nbconvert_exporter": "python",
   "pygments_lexer": "ipython3",
   "version": "3.6.3"
  }
 },
 "nbformat": 4,
 "nbformat_minor": 2
}
